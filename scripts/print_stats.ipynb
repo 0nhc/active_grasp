{
 "cells": [
  {
   "cell_type": "code",
   "execution_count": null,
   "metadata": {},
   "outputs": [],
   "source": [
    "import pandas as pd"
   ]
  },
  {
   "cell_type": "markdown",
   "metadata": {},
   "source": [
    "Generate table entry of a single experiment."
   ]
  },
  {
   "cell_type": "code",
   "execution_count": null,
   "metadata": {},
   "outputs": [],
   "source": [
    "logfile = \"/home/michel/Insync/michel.breyer@ethz-asl.ch/Google Drive/Projects/nbv-grasp/experiments/21-10-11/mustard1/nbv-grasp.csv\"\n",
    "\n",
    "###\n",
    "\n",
    "df = pd.read_csv(logfile)\n",
    "\n",
    "n_attempts = len(df.index)\n",
    "n_succeeded = (df.result == \"succeeded\").sum()\n",
    "n_failed = (df.result == \"failed\").sum()\n",
    "n_aborted = (df.result == \"aborted\").sum()\n",
    "views_mean = df.view_count.mean()\n",
    "dist_mean = df.distance.mean()\n",
    "search_time_mean = df.search_time.mean()\n",
    "grasp_time_mean = df.grasp_time.mean()\n",
    "\n",
    "print(f\"${n_succeeded}$ & ${n_failed}$ & ${n_aborted}$ & ${views_mean:.1f}$ & ${search_time_mean:.2f}$ & ${grasp_time_mean:.2f}$\")"
   ]
  },
  {
   "cell_type": "code",
   "execution_count": null,
   "metadata": {},
   "outputs": [],
   "source": []
  }
 ],
 "metadata": {
  "interpreter": {
   "hash": "fb16c2a7860a3d6783f021a002ede0627d3977ca7b794dfd7ea4f613fe21e5c4"
  },
  "kernelspec": {
   "display_name": "Python 3.8.10 64-bit ('noetic': venv)",
   "name": "python3"
  },
  "language_info": {
   "codemirror_mode": {
    "name": "ipython",
    "version": 3
   },
   "file_extension": ".py",
   "mimetype": "text/x-python",
   "name": "python",
   "nbconvert_exporter": "python",
   "pygments_lexer": "ipython3",
   "version": "3.8.10"
  },
  "orig_nbformat": 4
 },
 "nbformat": 4,
 "nbformat_minor": 2
}
